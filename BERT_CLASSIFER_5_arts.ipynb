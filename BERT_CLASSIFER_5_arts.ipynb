{
  "nbformat": 4,
  "nbformat_minor": 0,
  "metadata": {
    "colab": {
      "name": "BERT_CLASSIFER_5_arts.ipynb",
      "provenance": [],
      "collapsed_sections": []
    },
    "kernelspec": {
      "name": "python3",
      "display_name": "Python 3"
    },
    "language_info": {
      "name": "python"
    },
    "accelerator": "GPU"
  },
  "cells": [
    {
      "cell_type": "code",
      "metadata": {
        "id": "nS02Z9a7MKT5",
        "colab": {
          "base_uri": "https://localhost:8080/"
        },
        "outputId": "5848afbe-ba7c-4678-a6cd-1bdf4054f19e"
      },
      "source": [
        "from google.colab import drive\n",
        "drive.mount('/content/drive/')"
      ],
      "execution_count": null,
      "outputs": [
        {
          "output_type": "stream",
          "text": [
            "Drive already mounted at /content/drive/; to attempt to forcibly remount, call drive.mount(\"/content/drive/\", force_remount=True).\n"
          ],
          "name": "stdout"
        }
      ]
    },
    {
      "cell_type": "markdown",
      "metadata": {
        "id": "rMl0wB8jL3KQ"
      },
      "source": [
        "## handy function"
      ]
    },
    {
      "cell_type": "code",
      "metadata": {
        "id": "pESQWT_CL2CE"
      },
      "source": [
        "import time\n",
        "import torch\n",
        "import math\n",
        "import os\n",
        "import numpy as np\n",
        "\n",
        "\n",
        "\n",
        "def print_current_time(output=''):\n",
        "    import datetime\n",
        "    import pytz\n",
        "    current_time = datetime.datetime.now(pytz.timezone('Israel'))\n",
        "    if output == '':\n",
        "        print(\"The current time is: \")\n",
        "    else:\n",
        "        print(output)\n",
        "    print(current_time)\n",
        "\n",
        "\n",
        "def move_x_and_y_cpu( x, y):\n",
        "        x = x.cpu()\n",
        "        y = y.cpu()\n",
        "        return (x,y)\n",
        "\n",
        "\n",
        "def timeSince(since, percent):\n",
        "    now = time.time()\n",
        "    s = now - since\n",
        "    es = s / percent\n",
        "    rs = es - s\n",
        "    return '%s (%s)' % (asMinutes(s), asMinutes(rs))\n",
        "\n",
        "\n",
        "def calculate_accuracy(outputs, labels):\n",
        "    pred = torch.argmax(outputs, dim=1)\n",
        "    total = labels.size(0)\n",
        "    correct = (pred == labels).sum().item()\n",
        "    return correct, total\n",
        "\n",
        "\n",
        "def asMinutes(s):\n",
        "    m = math.floor(s / 60)\n",
        "    s -= m * 60\n",
        "    return '%dm %ds' % (m, s)\n",
        "\n",
        "def top_k_accuracy(outputs, labels, k):\n",
        "    top_p, top_class = outputs.topk(k, dim=1)\n",
        "    top_class = top_class.t()\n",
        "    correct = top_class.eq(labels.view(1, -1).expand_as(top_class))\n",
        "    total = labels.size(0)\n",
        "    correct_k = correct.float().sum().item()\n",
        "    return correct_k, total    \n",
        "\n",
        "\n",
        "\n",
        "\n",
        "\n"
      ],
      "execution_count": null,
      "outputs": []
    },
    {
      "cell_type": "markdown",
      "metadata": {
        "id": "kXybw2utI283"
      },
      "source": [
        "## tokenizing"
      ]
    },
    {
      "cell_type": "code",
      "metadata": {
        "id": "tJRyvS2nLrRN",
        "colab": {
          "base_uri": "https://localhost:8080/"
        },
        "outputId": "917e56b5-8687-41b7-edd0-d1865b3ec624"
      },
      "source": [
        "!pip install transformers"
      ],
      "execution_count": null,
      "outputs": [
        {
          "output_type": "stream",
          "text": [
            "Requirement already satisfied: transformers in /usr/local/lib/python3.7/dist-packages (4.5.0)\n",
            "Requirement already satisfied: requests in /usr/local/lib/python3.7/dist-packages (from transformers) (2.23.0)\n",
            "Requirement already satisfied: filelock in /usr/local/lib/python3.7/dist-packages (from transformers) (3.0.12)\n",
            "Requirement already satisfied: sacremoses in /usr/local/lib/python3.7/dist-packages (from transformers) (0.0.44)\n",
            "Requirement already satisfied: numpy>=1.17 in /usr/local/lib/python3.7/dist-packages (from transformers) (1.19.5)\n",
            "Requirement already satisfied: importlib-metadata; python_version < \"3.8\" in /usr/local/lib/python3.7/dist-packages (from transformers) (3.8.1)\n",
            "Requirement already satisfied: tqdm>=4.27 in /usr/local/lib/python3.7/dist-packages (from transformers) (4.41.1)\n",
            "Requirement already satisfied: regex!=2019.12.17 in /usr/local/lib/python3.7/dist-packages (from transformers) (2019.12.20)\n",
            "Requirement already satisfied: tokenizers<0.11,>=0.10.1 in /usr/local/lib/python3.7/dist-packages (from transformers) (0.10.2)\n",
            "Requirement already satisfied: packaging in /usr/local/lib/python3.7/dist-packages (from transformers) (20.9)\n",
            "Requirement already satisfied: idna<3,>=2.5 in /usr/local/lib/python3.7/dist-packages (from requests->transformers) (2.10)\n",
            "Requirement already satisfied: chardet<4,>=3.0.2 in /usr/local/lib/python3.7/dist-packages (from requests->transformers) (3.0.4)\n",
            "Requirement already satisfied: urllib3!=1.25.0,!=1.25.1,<1.26,>=1.21.1 in /usr/local/lib/python3.7/dist-packages (from requests->transformers) (1.24.3)\n",
            "Requirement already satisfied: certifi>=2017.4.17 in /usr/local/lib/python3.7/dist-packages (from requests->transformers) (2020.12.5)\n",
            "Requirement already satisfied: six in /usr/local/lib/python3.7/dist-packages (from sacremoses->transformers) (1.15.0)\n",
            "Requirement already satisfied: joblib in /usr/local/lib/python3.7/dist-packages (from sacremoses->transformers) (1.0.1)\n",
            "Requirement already satisfied: click in /usr/local/lib/python3.7/dist-packages (from sacremoses->transformers) (7.1.2)\n",
            "Requirement already satisfied: typing-extensions>=3.6.4; python_version < \"3.8\" in /usr/local/lib/python3.7/dist-packages (from importlib-metadata; python_version < \"3.8\"->transformers) (3.7.4.3)\n",
            "Requirement already satisfied: zipp>=0.5 in /usr/local/lib/python3.7/dist-packages (from importlib-metadata; python_version < \"3.8\"->transformers) (3.4.1)\n",
            "Requirement already satisfied: pyparsing>=2.0.2 in /usr/local/lib/python3.7/dist-packages (from packaging->transformers) (2.4.7)\n"
          ],
          "name": "stdout"
        }
      ]
    },
    {
      "cell_type": "code",
      "metadata": {
        "id": "_73Qv7-4KIJu"
      },
      "source": [
        "from transformers import BertTokenizer\n",
        "import torch\n",
        "\n",
        "class Tokenizing:\n",
        "    def __init__(self, df_songs):\n",
        "        self.df_songs = df_songs\n",
        "        self.max_embed_batch_len = 512\n",
        "        self.songs_dict = dict()\n",
        "        self.tokenizer = None\n",
        "        self.create_tokenizer_instance()\n",
        "\n",
        "    def create_tokenizer_instance(self):\n",
        "        # Load the BERT tokenizer.\n",
        "        print('Loading BERT tokenizer...')\n",
        "        self.tokenizer = BertTokenizer.from_pretrained('bert-base-uncased', do_lower_case=True)\n",
        "\n",
        "    def tokenizing_batch(self, batch):\n",
        "        \"\"\"\n",
        "        For every single song\n",
        "\n",
        "        \"\"\"\n",
        "\n",
        "        # `encode_plus` will:\n",
        "        #   (1) Tokenize the batch.\n",
        "        #   (2) Prepend the `[CLS]` token to the start.\n",
        "        #   (3) Append the `[SEP]` token to the end.\n",
        "        #   (4) Map tokens to their IDs.\n",
        "        #   (5) Pad or truncate the sentence to `max_length`\n",
        "        #   (6) Create attention masks for [PAD] tokens.\n",
        "        encoded_dict = self.tokenizer.encode_plus(\n",
        "            batch,  # Sentence to encode.\n",
        "            add_special_tokens=True,  # Add '[CLS]' and '[SEP]'\n",
        "            max_length=self.max_embed_batch_len,  # Pad & truncate all sentences.\n",
        "            pad_to_max_length=True,\n",
        "            return_attention_mask=True,  # Construct attn. masks.\n",
        "            return_tensors='pt'  # Return pytorch tensors.\n",
        "        )\n",
        "        return encoded_dict\n",
        "\n",
        "    def tokenize_each_song(self, tokenizing_path=None):\n",
        "        \"\"\"\n",
        "        For all songs\n",
        "\n",
        "        \"\"\"\n",
        "        print_current_time(\"starting tokenizing process\")\n",
        "\n",
        "        # if saved tokenizing\n",
        "        if tokenizing_path is not None:\n",
        "            self.songs_dict = torch.load(tokenizing_path)\n",
        "            self.tokenizing_path = tokenizing_path\n",
        "        else:\n",
        "            for i in range(len(self.df_songs)):\n",
        "                key = (self.df_songs.loc[i, \"Artist\"], self.df_songs.loc[i, \"Song_name\"])\n",
        "\n",
        "                batch_lyrics = self.df_songs.loc[i, \"Lyrics\"]\n",
        "\n",
        "                token_batch_lyrics = self.tokenizing_batch(batch_lyrics)\n",
        "                token_batch_lyrics_data = token_batch_lyrics.data\n",
        "\n",
        "                token_batch_lyrics_data['Lyrics'] = batch_lyrics\n",
        "\n",
        "                self.songs_dict[key] = token_batch_lyrics_data\n",
        "\n",
        "\n",
        "            \n",
        "\n",
        "\n",
        "        print_current_time(\"finished tokenizing process\")\n"
      ],
      "execution_count": null,
      "outputs": []
    },
    {
      "cell_type": "markdown",
      "metadata": {
        "id": "u7C6AjGEKbV5"
      },
      "source": [
        "## bertclassifer"
      ]
    },
    {
      "cell_type": "code",
      "metadata": {
        "id": "Pr5pl6OQKb25"
      },
      "source": [
        "from transformers import BertForSequenceClassification, BertConfig\n",
        "\n",
        "class BERTClassifer():\n",
        "\n",
        "\n",
        "  def __init__(self, args, device):\n",
        "\n",
        "\n",
        "    # config = BertConfig.from_pretrained('bert-base-uncased')\n",
        "    # config.num_labels = args.class_number\n",
        "    # self.model = BertForSequenceClassification(config)\n",
        "\n",
        "    # Load BertForSequenceClassification, the pretrained BERT model with a single\n",
        "    # linear classification layer on top.\n",
        "    self.model = BertForSequenceClassification.from_pretrained(\n",
        "        \"bert-base-uncased\",  # Use the 12-layer BERT model, with an uncased vocab.\n",
        "        num_labels= args.class_number,  # The number of output labels\n",
        "        # You can increase this for multi-class tasks.\n",
        "        output_attentions=False,  # Whether the model returns attentions weights.\n",
        "        output_hidden_states=False,  # Whether the model returns all hidden-states.\n",
        "    )\n",
        "\n",
        "    # Tell pytorch to run this model on the GPU.\n",
        "    if device.type == 'cuda':\n",
        "     self.model.cuda()\n",
        "\n",
        "\n",
        "  # def embed_and_predict(self,token_songs_batch, device):\n",
        "  #\n",
        "  #    b_input_ids =token_songs_batch[0].to(device)\n",
        "  #    b_input_mask =token_songs_batch[1].to(device)\n",
        "  #    b_labels =token_songs_batch[2].to(device)\n",
        "  #    b_labels =  b_labels.squeeze_()\n",
        "  #\n",
        "  #    loss, logits = self.model(b_input_ids,\n",
        "  #                         token_type_ids=None,\n",
        "  #                         attention_mask=b_input_mask,\n",
        "  #                         labels=b_labels)\n",
        "  #    return(logits)\n",
        "\n",
        "\n",
        "\n",
        "\n",
        "\n"
      ],
      "execution_count": null,
      "outputs": []
    },
    {
      "cell_type": "markdown",
      "metadata": {
        "id": "fQNVMzsIKo80"
      },
      "source": [
        "## upload data to dataloader"
      ]
    },
    {
      "cell_type": "code",
      "metadata": {
        "id": "VukjD1nhKpZM"
      },
      "source": [
        "import torch\n",
        "from sklearn.model_selection import train_test_split\n",
        "from torch.utils.data import DataLoader, TensorDataset\n",
        "import numpy as np\n",
        "\n",
        "\n",
        "\n",
        "\n",
        "class upload_data_to_dataloader:\n",
        "\n",
        "    def __init__(self, orig_songs_df, data, args,   tokenized_data = False ):\n",
        "\n",
        "        self.labels = orig_songs_df['label'].values\n",
        "        self.data = data\n",
        "        self.args = args\n",
        "\n",
        "        self.create_dataloader(tokenized_data)\n",
        "\n",
        "\n",
        "\n",
        "    def create_dataloader(self,  tokenized_data):\n",
        "\n",
        "       if  not tokenized_data:\n",
        "            self.upload_emd_data()\n",
        "       else:\n",
        "            self.upload_tokenized_data()\n",
        "\n",
        "\n",
        "    def upload_emd_data(self):\n",
        "\n",
        "        train_features, test_features, train_labels, test_labels = train_test_split(self.data, self.labels,\n",
        "                                                                                    test_size=self.args.test_ratio,\n",
        "                                                                                    random_state=42)\n",
        "\n",
        "        if self.args.validation_ratio > 0:\n",
        "            train_features, val_features, train_labels, val_labels = train_test_split(train_features,\n",
        "                                                                                      train_labels,\n",
        "                                                                                      test_size=self.args.validation_ratio,\n",
        "                                                                                      random_state=42\n",
        "                                                                                      )\n",
        "            val_dataset = TensorDataset(val_features, torch.from_numpy(val_labels))\n",
        "\n",
        "            self.val_dataloader = DataLoader(val_dataset, batch_size=self.args.val_batch_size)\n",
        "\n",
        "        tr_dataset = TensorDataset(train_features, torch.from_numpy(train_labels))\n",
        "\n",
        "        self.tr_dataloader = DataLoader(tr_dataset, batch_size=self.args.tr_batch_size)\n",
        "\n",
        "        test_dataset = TensorDataset(test_features, torch.from_numpy(test_labels))\n",
        "\n",
        "        self.test_dataloader = DataLoader(test_dataset, batch_size=self.args.test_batch_size)\n",
        "\n",
        "\n",
        "\n",
        "    def upload_tokenized_data(self):\n",
        "\n",
        "        input_ids_data,  attention_mask_data  =   self.get_input_ids_att_maks_lists()\n",
        "\n",
        "        train_input_id_data,  test_input_id_data,\\\n",
        "        train_attention_mask_data, test_attention_mask_data, \\\n",
        "        train_labels, test_labels = train_test_split(input_ids_data,  attention_mask_data, self.labels,test_size=self.args.test_ratio,   random_state=42)\n",
        "\n",
        "        if self.args.validation_ratio > 0:\n",
        "            train_input_id_data, val_input_id_data, \\\n",
        "            train_attention_mask_data, val_attention_mask_data, \\\n",
        "            train_labels, val_labels = train_test_split(train_input_id_data, train_attention_mask_data,  train_labels,\n",
        "                                                         test_size=self.args.validation_ratio , random_state=42)\n",
        "\n",
        "            val_dataset = TensorDataset(val_input_id_data, val_attention_mask_data ,torch.from_numpy(val_labels))\n",
        "\n",
        "            self.val_dataloader = DataLoader(val_dataset, batch_size=self.args.val_batch_size)\n",
        "\n",
        "        tr_dataset = TensorDataset(train_input_id_data, train_attention_mask_data ,torch.from_numpy(train_labels))\n",
        "\n",
        "        self.tr_dataloader = DataLoader(tr_dataset, batch_size=self.args.tr_batch_size)\n",
        "\n",
        "        test_dataset = TensorDataset(test_input_id_data, test_attention_mask_data ,torch.from_numpy(test_labels))\n",
        "\n",
        "        self.test_dataloader =  DataLoader(test_dataset, batch_size=self.args.tr_batch_size)\n",
        "\n",
        "\n",
        "\n",
        "\n",
        "\n",
        "    def get_input_ids_att_maks_lists(self):\n",
        "\n",
        "        input_ids_data = torch.tensor([])\n",
        "        attention_masks_data = torch.tensor([])\n",
        "\n",
        "        for key, token_song in self.data.items():\n",
        "                input_ids = token_song.get('input_ids')\n",
        "                input_ids_data= torch.cat((input_ids_data,input_ids), dim = 0)\n",
        "\n",
        "                attention_mask = token_song.get('attention_mask')\n",
        "                attention_masks_data = torch.cat(( attention_masks_data, attention_mask), dim=0)\n",
        "\n",
        "\n",
        "        return  input_ids_data, attention_masks_data\n",
        "\n",
        "\n",
        "\n",
        "\n",
        "\n",
        "\n"
      ],
      "execution_count": null,
      "outputs": []
    },
    {
      "cell_type": "markdown",
      "metadata": {
        "id": "bFg9Giy-K0WR"
      },
      "source": [
        "## train net"
      ]
    },
    {
      "cell_type": "code",
      "metadata": {
        "id": "TLbbKne7K0ts"
      },
      "source": [
        "# import pandas as pd\n",
        "from tqdm import tqdm\n",
        "import torch\n",
        "import time\n",
        "import copy\n",
        "\n",
        "# import pandas as pd\n",
        "from tqdm import tqdm\n",
        "import torch\n",
        "import time\n",
        "import copy\n",
        "\n",
        "\n",
        "class TrainNet:\n",
        "    def __init__(self, train_dataloader, net, optimizer, device, args, val_dataloader=None, save= False,  tr_bert_classifer = False,use_validation= True, k=5 ):\n",
        "\n",
        "        self.train_dataloader = train_dataloader\n",
        "        self.val_dataloader = val_dataloader\n",
        "        self.optimizer = optimizer\n",
        "        self.net = net\n",
        "        #self.best_net = None\n",
        "        self.device = device\n",
        "        self.save = save\n",
        "        self.use_validation = use_validation\n",
        "        self.num_epochs = args.num_epochs\n",
        "        self.criterion = args.criterion\n",
        "        self.early_stop_n = args.early_stop_n\n",
        "        self.early_stop_acc_value = args.early_stop_acc_value\n",
        "        self.tr_bert_classifer = tr_bert_classifer\n",
        "        self.k = k\n",
        "\n",
        "        self.epoch_before_early_stop = 0\n",
        "        self.val_best_acc_epoch = 0\n",
        "        self.val_acc_value_before_eraly_stop = 0.0\n",
        "        self.val_loss_value_before_eraly_stop = 0.0\n",
        "        self.tr_bert_classifer = tr_bert_classifer\n",
        "        self.val_best_acc_value = 0.0\n",
        "        self.val_best_loss_value = 100000.0\n",
        "\n",
        "\n",
        "\n",
        "\n",
        "        self.train_loss = [None] *  self.num_epochs\n",
        "        self.val_loss = [None] *  self.num_epochs\n",
        "\n",
        "        self.train_acc = [None] *  self.num_epochs\n",
        "        self.train_acc_k = [None] * self.num_epochs\n",
        "\n",
        "        self.val_acc = [None] *  self.num_epochs\n",
        "        self.val_acc_k = [None] * self.num_epochs\n",
        "\n",
        "\n",
        "\n",
        "\n",
        "        self.train_net(tr_bert_classifer)\n",
        "\n",
        "    def train_net(self, tr_bert_classifer= False):\n",
        "\n",
        "        start = time.time()\n",
        "        print_current_time(\"starting to train classifier net\")\n",
        "        epoch_total_train_loss = 0.0  # Reset every epoch\n",
        "\n",
        "        for epoch in range( self.num_epochs):\n",
        "\n",
        "            for tr_batch in tqdm(self.train_dataloader):\n",
        "\n",
        "                self.net.train()\n",
        "                # zero the parameter gradients\n",
        "                self.optimizer.zero_grad()\n",
        "\n",
        "                # forward\n",
        "                loss, y_pred = self.forwad(tr_batch)\n",
        "\n",
        "                # backward + optimize\n",
        "                y_train = self.get_labels(tr_batch)\n",
        "                loss = self.get_loss(loss, y_pred, y_train)\n",
        "                loss.backward()\n",
        "                self.optimizer.step()\n",
        "\n",
        "                epoch_total_train_loss += loss.item()\n",
        "\n",
        "            # train metrics\n",
        "            self.train_loss[epoch] = epoch_total_train_loss / len(self.train_dataloader)\n",
        "            epoch_total_train_loss = 0.0\n",
        "\n",
        "            self.train_acc[epoch], self.train_acc_k[epoch], _ = self.evaluate(self.train_dataloader)\n",
        "\n",
        "            if self.use_validation:\n",
        "                # val metrics\n",
        "                self.val_acc[epoch], self.val_acc_k[epoch], self.val_loss[epoch] = self.evaluate(self.val_dataloader, True)\n",
        "                self.update_best_val_loss_acc(self.val_acc[epoch], self.val_loss[epoch], epoch )\n",
        "                self.print_metrics(epoch, start, False )\n",
        "\n",
        "\n",
        "                self.epoch_before_early_stop = epoch\n",
        "                self.val_acc_value_before_eraly_stop =   self.val_acc[epoch]\n",
        "                self.val_loss_value_before_eraly_stop =  self.val_loss[epoch]\n",
        "                #early stop check\n",
        "                if self.early_stopping_check(epoch):\n",
        "                        break\n",
        "\n",
        "\n",
        "\n",
        "            self.print_metrics(epoch, start)\n",
        "            # print(f'Epoch #{epoch}:\\n'\n",
        "            #       f'Last batch Loss: {loss.item():.4f}\\n'\n",
        "            #       f'Train accuracy: {epoch_total_train_acc:.3f}\\n'\n",
        "            #       f'Test accuracy: {test_accuracy:.3f}\\n'\n",
        "            #       f'Time elapsed (remaining): {timeSince(start, (epoch+1) /  self.num_epochs)}')\n",
        "\n",
        "            if self.save:\n",
        "                save_model(self.net, epoch)\n",
        "\n",
        "\n",
        "\n",
        "    def print_metrics(self, epoch, start, train=True):\n",
        "        if epoch % 1 == 0 or epoch == self.num_epochs-1:\n",
        "            print()\n",
        "            print(\"******************************\")\n",
        "\n",
        "            if train:\n",
        "                print(f'Epoch #{epoch + 1}:\\n'\n",
        "                      f'Train Loss: {self.train_loss[epoch]:.4f}\\n'\n",
        "                      f'Train accuracy: {self.train_acc[epoch]:.4f}\\n'\n",
        "                      f'Train k-accuracy: {self.train_acc_k[epoch]:.3f}\\n'\n",
        "                      f'Time elapsed (remaining): {timeSince(start, (epoch + 1) / self.num_epochs)}')\n",
        "\n",
        "            else:\n",
        "\n",
        "                print(f'Epoch #{epoch + 1}:\\n'\n",
        "                      f'Validation Loss: {self.val_loss[epoch]:.4f}\\n'\n",
        "                      f'Validation accuracy: {self.val_acc[epoch]:.4f}\\n' \n",
        "                      f'Validation k-accuracy: {self.val_acc_k[epoch]:.3f}\\n')\n",
        "\n",
        "    def early_stopping_check(self, curr_epoch):\n",
        "        if curr_epoch <  self.early_stop_n :\n",
        "            return False\n",
        "\n",
        "\n",
        "\n",
        "        for i in range(0,  self.early_stop_n):\n",
        "            if self.val_acc[curr_epoch - i] - self.val_acc[curr_epoch - i - 1] >= self.early_stop_acc_value:\n",
        "                return False\n",
        "\n",
        "\n",
        "        print(\"made early stopping after epoch: \", curr_epoch)\n",
        "        return True\n",
        "\n",
        "    def evaluate(self, dataloader, val = False):\n",
        "\n",
        "        total = 0.0\n",
        "        correct = 0.0\n",
        "        epoch_val_loss = 0.0\n",
        "        correct_k = 0.0\n",
        "        self.net.eval()\n",
        "\n",
        "        with torch.no_grad():\n",
        "\n",
        "            for val_batch in tqdm(dataloader):\n",
        "                loss,outputs = self.forwad(val_batch)\n",
        "\n",
        "                labels = self.get_labels(val_batch)\n",
        "                current_correct, current_total = calculate_accuracy(outputs, labels)\n",
        "                current_k_correct, _ = top_k_accuracy(outputs, labels, k=self.k)\n",
        "\n",
        "                correct_k += current_k_correct\n",
        "                correct += current_correct\n",
        "                total += current_total\n",
        "\n",
        "                if val:\n",
        "                    val_loss = self.criterion(outputs, labels.long())\n",
        "                    epoch_val_loss += val_loss.item()\n",
        "\n",
        "        accuracy = correct / total\n",
        "        k_accuracy = correct_k / total\n",
        "        epoch_val_avg_loss = epoch_val_loss/len(self.train_dataloader)\n",
        "\n",
        "        return accuracy, k_accuracy, epoch_val_avg_loss\n",
        "\n",
        "    def forwad(self, batch):\n",
        "\n",
        "        loss = -1\n",
        "\n",
        "        if self.tr_bert_classifer:\n",
        "\n",
        "            b_input_ids  =  batch[0].to(self.device).long()\n",
        "            b_input_mask =  batch[1].to(self.device)\n",
        "            b_labels     =  batch[2].to(self.device).long()\n",
        "            #b_labels = b_labels.squeeze_()\n",
        "\n",
        "            loss, y_pred = self.net(b_input_ids,\n",
        "                                 token_type_ids=None,\n",
        "                                 attention_mask=b_input_mask,\n",
        "                                 labels=b_labels,\n",
        "                                 return_dict=False\n",
        "                                    )\n",
        "        else:\n",
        "            x_train = batch[0]\n",
        "            x_train = x_train.to(self.device)\n",
        "\n",
        "            y_pred = self.net(x_train)\n",
        "\n",
        "\n",
        "        return loss, y_pred\n",
        "\n",
        "\n",
        "\n",
        "    def get_labels(self, batch):\n",
        "\n",
        "        if self.tr_bert_classifer:\n",
        "            labels = batch[2].to(self.device)\n",
        "\n",
        "        else:\n",
        "            labels = batch[1].to(self.device)\n",
        "\n",
        "        labels = labels.squeeze_()\n",
        "\n",
        "        return labels\n",
        "\n",
        "    def get_loss(self, loss, y_pred, y_train):\n",
        "\n",
        "        if self.tr_bert_classifer:\n",
        "            return loss\n",
        "\n",
        "        else:\n",
        "            loss = self.criterion(y_pred, y_train.long())\n",
        "            return loss\n",
        "\n",
        "    def update_best_val_loss_acc(self,  last_epoch_acc_value,  last_epoch_loss_value, epoch):\n",
        "\n",
        "        if last_epoch_acc_value > self.val_best_acc_value:\n",
        "            self.val_best_acc_value= last_epoch_acc_value\n",
        "            self.val_best_acc_epoch = epoch\n",
        "            #self.best_net = copy.deepcopy(self.net)\n",
        "\n",
        "        if last_epoch_loss_value < self.val_best_loss_value:\n",
        "            self.val_best_loss_value =  last_epoch_loss_value\n",
        "\n",
        "\n",
        "  \n",
        "\n",
        "\n",
        "\n",
        "\n",
        "\n",
        "\n",
        "\n",
        "\n",
        "\n",
        "\n",
        "\n",
        "\n",
        "\n",
        "\n",
        "\n",
        "\n",
        "\n",
        "\n",
        "\n",
        "\n",
        "\n",
        "\n",
        "\n",
        "\n"
      ],
      "execution_count": null,
      "outputs": []
    },
    {
      "cell_type": "markdown",
      "metadata": {
        "id": "kpEkavhlK914"
      },
      "source": [
        "##Preproccess Data"
      ]
    },
    {
      "cell_type": "code",
      "metadata": {
        "id": "G9qF2LfBK-KB"
      },
      "source": [
        "import pandas as pd\n",
        "from sklearn.preprocessing import LabelEncoder\n",
        "\n",
        "\n",
        "class PreprocessData:\n",
        "\n",
        "    def __init__(self, song_csv_path, max_word):\n",
        "        self.df_songs = pd.read_csv(song_csv_path)\n",
        "        self.filtered_df_songs = pd.DataFrame()\n",
        "        self.max_words = max_word\n",
        "\n",
        "        self.add_labels()\n",
        "        self.delete_songs_more_n_words(self.max_words)\n",
        "\n",
        "    def add_labels(self):\n",
        "        labelencoder = LabelEncoder()\n",
        "        self.df_songs[\"label\"]=labelencoder.fit_transform(self.df_songs[\"Artist\"])\n",
        "\n",
        "    def delete_songs_more_n_words(self, max_n_words):\n",
        "        self.df_songs['words_num'] =   self.df_songs.Lyrics.apply(lambda x: len(str(x).replace(\"\\n\",\" \" ).split(' ')))\n",
        "        # from collections import Counter\n",
        "        # self.df_songs['words_num'] =self.df_songs['lyrics'].apply(lambda x: Counter(\" \".join(x).split(\" \")).items())\n",
        "        self.filtered_df_songs =  self.df_songs[self.df_songs['words_num'] <= max_n_words].reset_index()\n"
      ],
      "execution_count": null,
      "outputs": []
    },
    {
      "cell_type": "markdown",
      "metadata": {
        "id": "yIH2TS8GLJZF"
      },
      "source": [
        "## args"
      ]
    },
    {
      "cell_type": "code",
      "metadata": {
        "id": "55VOY8N5LJy-"
      },
      "source": [
        "import torch.nn.functional\n",
        "\n",
        "\n",
        "class args:\n",
        "\n",
        "  def __init__(self):\n",
        "\n",
        "    #NN architecture args\n",
        "    self.input_size = 768\n",
        "    self.class_number= 5\n",
        "    self.p1= 0.5\n",
        "    self.p2 = 0.25\n",
        "    self.fc1_output_size = 256\n",
        "    self.fc2_output_size = 64\n",
        "\n",
        "\n",
        "    # Train-test split args\n",
        "    self.validation_ratio = 0.2\n",
        "    self.test_ratio = 0.2\n",
        "\n",
        "    # NN training args\n",
        "    self.tr_batch_size =  8\n",
        "    self.val_batch_size = 8\n",
        "    self.num_epochs = 20\n",
        "\n",
        "    # NN back propagation arg0s\n",
        "    self.lr = 2e-5\n",
        "    self.weight_decay= 0.001\n",
        "    self.criterion = torch.nn.CrossEntropyLoss()\n",
        "\n",
        "    # NN early stopping args\n",
        "    self.early_stop_n = 3\n",
        "    self.early_stop_acc_value = 0\n",
        "\n",
        "\n"
      ],
      "execution_count": null,
      "outputs": []
    },
    {
      "cell_type": "markdown",
      "metadata": {
        "id": "-wSR4MqHuHb4"
      },
      "source": [
        "## Plots"
      ]
    },
    {
      "cell_type": "code",
      "metadata": {
        "id": "HDnZtNNEuPO_"
      },
      "source": [
        "from matplotlib import pyplot as plt\n",
        "from datetime import datetime\n",
        "import os\n",
        "import numpy as np\n",
        "\n",
        "def plot_accuracies(train_accs, test_accs, model_name):\n",
        "    current_time = datetime.now().strftime(\"%Y%m%d-%H%M%S\")\n",
        "    plt.figure(figsize=(20, 8))\n",
        "    plt.xlabel('epoch')\n",
        "    plt.ylabel('accuracy')\n",
        "    # plt.tight_layout()\n",
        "    plt.plot(train_accs, label='train')\n",
        "    plt.plot(test_accs, label='validation')\n",
        "    plt.title(f'{model_name} accuracy')\n",
        "    plt.xticks(range(len(train_accs)), range(1, len(train_accs) + 1))\n",
        "    plt.yticks(np.around(np.linspace(0.0, 1.0, num=11), decimals=1))\n",
        "    plt.legend()\n",
        "    # plt.grid(True)\n",
        "    #plt.savefig(os.path.join(FIGURES_DIR, f'{model_name}_accuracy_{current_time}.png'))\n",
        "    plt.show()\n",
        "\n",
        "\n",
        "def plot_loss(train_loss, val_loss, model_name):\n",
        "    current_time = datetime.now().strftime(\"%Y%m%d-%H%M%S\")\n",
        "    plt.figure(figsize=(20, 8))\n",
        "    plt.xlabel('epoch')\n",
        "    plt.ylabel('loss')\n",
        "    # plt.tight_layout()\n",
        "    plt.plot(train_loss,  label='training')\n",
        "    plt.plot(val_loss,   label='validation')\n",
        "    plt.legend()\n",
        "\n",
        "    plt.title(f'{model_name} loss')\n",
        "    plt.xticks(range(len(train_loss)), range(1, len(train_loss) + 1))\n",
        "    # plt.yticks(np.around(np.linspace(0.0, 1.0, num=11), decimals=1))\n",
        "    # plt.grid(True)\n",
        "    #plt.savefig(os.path.join(FIGURES_DIR, f'{model_name}_loss_{current_time}.png'))\n",
        "    plt.show()\n"
      ],
      "execution_count": null,
      "outputs": []
    },
    {
      "cell_type": "markdown",
      "metadata": {
        "id": "QJkE1dewI6KG"
      },
      "source": [
        "## MAIN"
      ]
    },
    {
      "cell_type": "code",
      "metadata": {
        "id": "EEq_UUUzI2Ek",
        "colab": {
          "base_uri": "https://localhost:8080/",
          "height": 1000
        },
        "outputId": "86593d34-9e88-4de4-ae7c-b29c229a50eb"
      },
      "source": [
        "import torch\n",
        "import os\n",
        "from torch import optim\n",
        "\n",
        "tr_bert_classifer =  True\n",
        "\n",
        "# set device to GPU\n",
        "device = torch.device('cuda' if torch.cuda.is_available() else 'cpu')\n",
        "print(device)\n",
        "\n",
        "#args\n",
        "args = args()\n",
        "\n",
        "\n",
        "# pre-process data\n",
        "data_file =\"/content/drive/MyDrive/NLP_FINAL_PROJECT/DATA/songs_five_artists.csv\"\n",
        "songs_df = PreprocessData(data_file, 512)\n",
        "\n",
        "# tokenize songs\n",
        "tokenizing_path = \"/content/drive/MyDrive/NLP_FINAL_PROJECT/DATA/songs_five_artists_token.pt\"\n",
        "song_token = Tokenizing(df_songs= songs_df.filtered_df_songs )\n",
        "song_token.tokenize_each_song(tokenizing_path)\n",
        "\n",
        "if tokenizing_path is None:\n",
        "    torch.save(song_token.songs_dict, PARAMETERS_DIR + \"\\\\songs_five_artists_token.pt\")\n",
        "\n",
        "if not tr_bert_classifer:\n",
        "    # song embeddings\n",
        "    embedding_path = os.path.join(PARAMETERS_DIR, \"embedding_songs_five_artists.pt\")\n",
        "    embedding_songs = Embedding(tokenizing_data=song_token.songs_dict, device=device, embedding_path= embedding_path)\n",
        "    embedding_songs.data_embedding()\n",
        "\n",
        "    if embedding_songs.embedding_path is None:\n",
        "        torch.save(embedding_songs.songs_features,  PARAMETERS_DIR + \"\\\\embedding_songs_five_artists.pt\" )\n",
        "\n",
        "    # create dataloader from embeddings\n",
        "    embedding_dataloaders = upload_data_to_dataloader(song_token.df_songs, embedding_songs.songs_features, args= args)\n",
        "\n",
        "else:\n",
        "    embedding_dataloaders = upload_data_to_dataloader(song_token.df_songs, song_token.songs_dict, args=args, tokenized_data= True)\n",
        "\n",
        "# train classification net\n",
        "if tr_bert_classifer:\n",
        "\n",
        "    bert_classifer = BERTClassifer(args, device)\n",
        "    untrained_net = bert_classifer.model\n",
        "\n",
        "\n",
        "else:\n",
        "    untrained_net = ClassificationNet(args, input_size=args.input_size).to(device)\n",
        "\n",
        "untrained_net_final = copy.deepcopy(untrained_net)\n",
        "\n",
        "\n",
        "LR = args.lr\n",
        "WEIGHT_DECAY = args.weight_decay\n",
        "\n",
        "if WEIGHT_DECAY > 0:\n",
        "    adam_optimizer = optim.Adam(untrained_net.parameters(), lr=LR, weight_decay=WEIGHT_DECAY)\n",
        "else:\n",
        "    adam_optimizer = optim.Adam(untrained_net.parameters(), lr=LR)\n",
        "\n",
        "\n",
        "trained_net = TrainNet(train_dataloader=embedding_dataloaders.tr_dataloader, optimizer=adam_optimizer,\n",
        "                                      device=device, net=    untrained_net,\n",
        "                                      val_dataloader=embedding_dataloaders.val_dataloader,\n",
        "                                      args= args, tr_bert_classifer = tr_bert_classifer, k=3)\n",
        "\n",
        "model_result = {'loss': trained_net.train_loss, 'train_acc': trained_net.train_acc, 'test_acc': trained_net.val_acc}\n",
        "\n",
        "\n",
        "print(\"best validation accuracy was: \", round(trained_net.val_best_acc_value, 4), \"after epoch number: \", trained_net.val_best_acc_epoch)\n",
        "\n",
        "\n",
        "#plot figures\n",
        "plot_accuracies(trained_net.train_acc, trained_net.val_acc, '5_artists')\n",
        "plot_loss(trained_net.train_loss, trained_net.val_loss, '5_artists')\n",
        "\n",
        "\n",
        "\n",
        "\n",
        "\n",
        "\n"
      ],
      "execution_count": null,
      "outputs": [
        {
          "output_type": "stream",
          "text": [
            "cuda\n",
            "Loading BERT tokenizer...\n",
            "starting tokenizing process\n",
            "2021-04-13 15:31:27.248564+03:00\n",
            "finished tokenizing process\n",
            "2021-04-13 15:31:27.728127+03:00\n"
          ],
          "name": "stdout"
        },
        {
          "output_type": "stream",
          "text": [
            "Some weights of the model checkpoint at bert-base-uncased were not used when initializing BertForSequenceClassification: ['cls.predictions.bias', 'cls.predictions.transform.dense.weight', 'cls.predictions.transform.dense.bias', 'cls.predictions.decoder.weight', 'cls.seq_relationship.weight', 'cls.seq_relationship.bias', 'cls.predictions.transform.LayerNorm.weight', 'cls.predictions.transform.LayerNorm.bias']\n",
            "- This IS expected if you are initializing BertForSequenceClassification from the checkpoint of a model trained on another task or with another architecture (e.g. initializing a BertForSequenceClassification model from a BertForPreTraining model).\n",
            "- This IS NOT expected if you are initializing BertForSequenceClassification from the checkpoint of a model that you expect to be exactly identical (initializing a BertForSequenceClassification model from a BertForSequenceClassification model).\n",
            "Some weights of BertForSequenceClassification were not initialized from the model checkpoint at bert-base-uncased and are newly initialized: ['classifier.weight', 'classifier.bias']\n",
            "You should probably TRAIN this model on a down-stream task to be able to use it for predictions and inference.\n",
            "  0%|          | 0/169 [00:00<?, ?it/s]"
          ],
          "name": "stderr"
        },
        {
          "output_type": "stream",
          "text": [
            "starting to train classifier net\n",
            "2021-04-13 15:31:37.350265+03:00\n"
          ],
          "name": "stdout"
        },
        {
          "output_type": "stream",
          "text": [
            "100%|██████████| 169/169 [04:21<00:00,  1.55s/it]\n",
            "100%|██████████| 169/169 [01:33<00:00,  1.81it/s]\n",
            "100%|██████████| 43/43 [00:23<00:00,  1.84it/s]\n",
            "  0%|          | 0/169 [00:00<?, ?it/s]"
          ],
          "name": "stderr"
        },
        {
          "output_type": "stream",
          "text": [
            "\n",
            "******************************\n",
            "Epoch #1:\n",
            "Validation Loss: 0.2779\n",
            "Validation accuracy: 0.6036\n",
            "Validation k-accuracy: 0.917\n",
            "\n",
            "\n",
            "******************************\n",
            "Epoch #1:\n",
            "Train Loss: 1.3559\n",
            "Train accuracy: 0.6901\n",
            "Train k-accuracy: 0.950\n",
            "Time elapsed (remaining): 6m 17s (119m 41s)\n"
          ],
          "name": "stdout"
        },
        {
          "output_type": "stream",
          "text": [
            "100%|██████████| 169/169 [04:20<00:00,  1.54s/it]\n",
            "100%|██████████| 169/169 [01:33<00:00,  1.81it/s]\n",
            "100%|██████████| 43/43 [00:23<00:00,  1.84it/s]\n",
            "  0%|          | 0/169 [00:00<?, ?it/s]"
          ],
          "name": "stderr"
        },
        {
          "output_type": "stream",
          "text": [
            "\n",
            "******************************\n",
            "Epoch #2:\n",
            "Validation Loss: 0.2699\n",
            "Validation accuracy: 0.6154\n",
            "Validation k-accuracy: 0.896\n",
            "\n",
            "\n",
            "******************************\n",
            "Epoch #2:\n",
            "Train Loss: 0.8215\n",
            "Train accuracy: 0.8018\n",
            "Train k-accuracy: 0.979\n",
            "Time elapsed (remaining): 12m 35s (113m 22s)\n"
          ],
          "name": "stdout"
        },
        {
          "output_type": "stream",
          "text": [
            "100%|██████████| 169/169 [04:22<00:00,  1.55s/it]\n",
            "100%|██████████| 169/169 [01:33<00:00,  1.81it/s]\n",
            "100%|██████████| 43/43 [00:23<00:00,  1.84it/s]\n",
            "  0%|          | 0/169 [00:00<?, ?it/s]"
          ],
          "name": "stderr"
        },
        {
          "output_type": "stream",
          "text": [
            "\n",
            "******************************\n",
            "Epoch #3:\n",
            "Validation Loss: 0.2373\n",
            "Validation accuracy: 0.6923\n",
            "Validation k-accuracy: 0.947\n",
            "\n",
            "\n",
            "******************************\n",
            "Epoch #3:\n",
            "Train Loss: 0.4839\n",
            "Train accuracy: 0.9519\n",
            "Train k-accuracy: 0.997\n",
            "Time elapsed (remaining): 18m 54s (107m 10s)\n"
          ],
          "name": "stdout"
        },
        {
          "output_type": "stream",
          "text": [
            "100%|██████████| 169/169 [04:21<00:00,  1.55s/it]\n",
            "100%|██████████| 169/169 [01:33<00:00,  1.81it/s]\n",
            "100%|██████████| 43/43 [00:23<00:00,  1.84it/s]\n",
            "  0%|          | 0/169 [00:00<?, ?it/s]"
          ],
          "name": "stderr"
        },
        {
          "output_type": "stream",
          "text": [
            "\n",
            "******************************\n",
            "Epoch #4:\n",
            "Validation Loss: 0.2968\n",
            "Validation accuracy: 0.6746\n",
            "Validation k-accuracy: 0.941\n",
            "\n",
            "\n",
            "******************************\n",
            "Epoch #4:\n",
            "Train Loss: 0.2499\n",
            "Train accuracy: 0.9334\n",
            "Train k-accuracy: 0.996\n",
            "Time elapsed (remaining): 25m 13s (100m 52s)\n"
          ],
          "name": "stdout"
        },
        {
          "output_type": "stream",
          "text": [
            "100%|██████████| 169/169 [04:19<00:00,  1.54s/it]\n",
            "100%|██████████| 169/169 [01:32<00:00,  1.82it/s]\n",
            "100%|██████████| 43/43 [00:23<00:00,  1.85it/s]\n",
            "  0%|          | 0/169 [00:00<?, ?it/s]"
          ],
          "name": "stderr"
        },
        {
          "output_type": "stream",
          "text": [
            "\n",
            "******************************\n",
            "Epoch #5:\n",
            "Validation Loss: 0.3030\n",
            "Validation accuracy: 0.6953\n",
            "Validation k-accuracy: 0.959\n",
            "\n",
            "\n",
            "******************************\n",
            "Epoch #5:\n",
            "Train Loss: 0.1277\n",
            "Train accuracy: 0.9882\n",
            "Train k-accuracy: 0.999\n",
            "Time elapsed (remaining): 31m 29s (94m 27s)\n"
          ],
          "name": "stdout"
        },
        {
          "output_type": "stream",
          "text": [
            "100%|██████████| 169/169 [04:21<00:00,  1.54s/it]\n",
            "100%|██████████| 169/169 [01:33<00:00,  1.81it/s]\n",
            "100%|██████████| 43/43 [00:23<00:00,  1.84it/s]\n",
            "  0%|          | 0/169 [00:00<?, ?it/s]"
          ],
          "name": "stderr"
        },
        {
          "output_type": "stream",
          "text": [
            "\n",
            "******************************\n",
            "Epoch #6:\n",
            "Validation Loss: 0.2792\n",
            "Validation accuracy: 0.7189\n",
            "Validation k-accuracy: 0.962\n",
            "\n",
            "\n",
            "******************************\n",
            "Epoch #6:\n",
            "Train Loss: 0.1017\n",
            "Train accuracy: 0.9933\n",
            "Train k-accuracy: 1.000\n",
            "Time elapsed (remaining): 37m 47s (88m 9s)\n"
          ],
          "name": "stdout"
        },
        {
          "output_type": "stream",
          "text": [
            "100%|██████████| 169/169 [04:21<00:00,  1.55s/it]\n",
            "100%|██████████| 169/169 [01:33<00:00,  1.81it/s]\n",
            "100%|██████████| 43/43 [00:23<00:00,  1.84it/s]\n",
            "  0%|          | 0/169 [00:00<?, ?it/s]"
          ],
          "name": "stderr"
        },
        {
          "output_type": "stream",
          "text": [
            "\n",
            "******************************\n",
            "Epoch #7:\n",
            "Validation Loss: 0.3235\n",
            "Validation accuracy: 0.7071\n",
            "Validation k-accuracy: 0.964\n",
            "\n",
            "\n",
            "******************************\n",
            "Epoch #7:\n",
            "Train Loss: 0.0553\n",
            "Train accuracy: 0.9948\n",
            "Train k-accuracy: 0.999\n",
            "Time elapsed (remaining): 44m 5s (81m 53s)\n"
          ],
          "name": "stdout"
        },
        {
          "output_type": "stream",
          "text": [
            "100%|██████████| 169/169 [04:21<00:00,  1.55s/it]\n",
            "100%|██████████| 169/169 [01:33<00:00,  1.81it/s]\n",
            "100%|██████████| 43/43 [00:23<00:00,  1.84it/s]\n",
            "  0%|          | 0/169 [00:00<?, ?it/s]"
          ],
          "name": "stderr"
        },
        {
          "output_type": "stream",
          "text": [
            "\n",
            "******************************\n",
            "Epoch #8:\n",
            "Validation Loss: 0.3660\n",
            "Validation accuracy: 0.6864\n",
            "Validation k-accuracy: 0.947\n",
            "\n",
            "\n",
            "******************************\n",
            "Epoch #8:\n",
            "Train Loss: 0.0337\n",
            "Train accuracy: 0.9978\n",
            "Train k-accuracy: 1.000\n",
            "Time elapsed (remaining): 50m 24s (75m 36s)\n"
          ],
          "name": "stdout"
        },
        {
          "output_type": "stream",
          "text": [
            "100%|██████████| 169/169 [04:21<00:00,  1.55s/it]\n",
            "100%|██████████| 169/169 [01:33<00:00,  1.81it/s]\n",
            "100%|██████████| 43/43 [00:23<00:00,  1.84it/s]\n",
            "  0%|          | 0/169 [00:00<?, ?it/s]"
          ],
          "name": "stderr"
        },
        {
          "output_type": "stream",
          "text": [
            "\n",
            "******************************\n",
            "Epoch #9:\n",
            "Validation Loss: 0.3246\n",
            "Validation accuracy: 0.6923\n",
            "Validation k-accuracy: 0.950\n",
            "\n",
            "\n",
            "******************************\n",
            "Epoch #9:\n",
            "Train Loss: 0.0523\n",
            "Train accuracy: 0.9993\n",
            "Train k-accuracy: 1.000\n",
            "Time elapsed (remaining): 56m 42s (69m 18s)\n"
          ],
          "name": "stdout"
        },
        {
          "output_type": "stream",
          "text": [
            "100%|██████████| 169/169 [04:21<00:00,  1.55s/it]\n",
            "100%|██████████| 169/169 [01:33<00:00,  1.81it/s]\n",
            "100%|██████████| 43/43 [00:23<00:00,  1.84it/s]\n",
            "  0%|          | 0/169 [00:00<?, ?it/s]"
          ],
          "name": "stderr"
        },
        {
          "output_type": "stream",
          "text": [
            "\n",
            "******************************\n",
            "Epoch #10:\n",
            "Validation Loss: 0.3394\n",
            "Validation accuracy: 0.7041\n",
            "Validation k-accuracy: 0.959\n",
            "\n",
            "\n",
            "******************************\n",
            "Epoch #10:\n",
            "Train Loss: 0.0910\n",
            "Train accuracy: 1.0000\n",
            "Train k-accuracy: 1.000\n",
            "Time elapsed (remaining): 63m 0s (63m 0s)\n"
          ],
          "name": "stdout"
        },
        {
          "output_type": "stream",
          "text": [
            "100%|██████████| 169/169 [04:19<00:00,  1.54s/it]\n",
            "100%|██████████| 169/169 [01:32<00:00,  1.82it/s]\n",
            "100%|██████████| 43/43 [00:23<00:00,  1.85it/s]\n",
            "  0%|          | 0/169 [00:00<?, ?it/s]"
          ],
          "name": "stderr"
        },
        {
          "output_type": "stream",
          "text": [
            "\n",
            "******************************\n",
            "Epoch #11:\n",
            "Validation Loss: 0.4440\n",
            "Validation accuracy: 0.6627\n",
            "Validation k-accuracy: 0.935\n",
            "\n",
            "\n",
            "******************************\n",
            "Epoch #11:\n",
            "Train Loss: 0.0301\n",
            "Train accuracy: 0.9882\n",
            "Train k-accuracy: 0.999\n",
            "Time elapsed (remaining): 69m 16s (56m 40s)\n"
          ],
          "name": "stdout"
        },
        {
          "output_type": "stream",
          "text": [
            "100%|██████████| 169/169 [04:19<00:00,  1.54s/it]\n",
            "100%|██████████| 169/169 [01:33<00:00,  1.82it/s]\n",
            "100%|██████████| 43/43 [00:23<00:00,  1.85it/s]\n",
            "  0%|          | 0/169 [00:00<?, ?it/s]"
          ],
          "name": "stderr"
        },
        {
          "output_type": "stream",
          "text": [
            "\n",
            "******************************\n",
            "Epoch #12:\n",
            "Validation Loss: 0.3582\n",
            "Validation accuracy: 0.6805\n",
            "Validation k-accuracy: 0.944\n",
            "\n",
            "\n",
            "******************************\n",
            "Epoch #12:\n",
            "Train Loss: 0.0513\n",
            "Train accuracy: 0.9963\n",
            "Train k-accuracy: 1.000\n",
            "Time elapsed (remaining): 75m 32s (50m 21s)\n"
          ],
          "name": "stdout"
        },
        {
          "output_type": "stream",
          "text": [
            "100%|██████████| 169/169 [04:19<00:00,  1.54s/it]\n",
            "100%|██████████| 169/169 [01:32<00:00,  1.82it/s]\n",
            "100%|██████████| 43/43 [00:23<00:00,  1.85it/s]\n",
            "  0%|          | 0/169 [00:00<?, ?it/s]"
          ],
          "name": "stderr"
        },
        {
          "output_type": "stream",
          "text": [
            "\n",
            "******************************\n",
            "Epoch #13:\n",
            "Validation Loss: 0.3688\n",
            "Validation accuracy: 0.7041\n",
            "Validation k-accuracy: 0.926\n",
            "\n",
            "\n",
            "******************************\n",
            "Epoch #13:\n",
            "Train Loss: 0.0270\n",
            "Train accuracy: 0.9993\n",
            "Train k-accuracy: 1.000\n",
            "Time elapsed (remaining): 81m 48s (44m 3s)\n"
          ],
          "name": "stdout"
        },
        {
          "output_type": "stream",
          "text": [
            "100%|██████████| 169/169 [04:20<00:00,  1.54s/it]\n",
            "100%|██████████| 169/169 [01:33<00:00,  1.82it/s]\n",
            "100%|██████████| 43/43 [00:23<00:00,  1.85it/s]\n",
            "  0%|          | 0/169 [00:00<?, ?it/s]"
          ],
          "name": "stderr"
        },
        {
          "output_type": "stream",
          "text": [
            "\n",
            "******************************\n",
            "Epoch #14:\n",
            "Validation Loss: 0.4293\n",
            "Validation accuracy: 0.6716\n",
            "Validation k-accuracy: 0.926\n",
            "\n",
            "\n",
            "******************************\n",
            "Epoch #14:\n",
            "Train Loss: 0.0219\n",
            "Train accuracy: 0.9970\n",
            "Train k-accuracy: 1.000\n",
            "Time elapsed (remaining): 88m 5s (37m 45s)\n"
          ],
          "name": "stdout"
        },
        {
          "output_type": "stream",
          "text": [
            "100%|██████████| 169/169 [04:19<00:00,  1.54s/it]\n",
            "100%|██████████| 169/169 [01:32<00:00,  1.82it/s]\n",
            "100%|██████████| 43/43 [00:23<00:00,  1.85it/s]\n",
            "  0%|          | 0/169 [00:00<?, ?it/s]"
          ],
          "name": "stderr"
        },
        {
          "output_type": "stream",
          "text": [
            "\n",
            "******************************\n",
            "Epoch #15:\n",
            "Validation Loss: 0.4418\n",
            "Validation accuracy: 0.6568\n",
            "Validation k-accuracy: 0.935\n",
            "\n",
            "\n",
            "******************************\n",
            "Epoch #15:\n",
            "Train Loss: 0.0443\n",
            "Train accuracy: 0.9970\n",
            "Train k-accuracy: 1.000\n",
            "Time elapsed (remaining): 94m 21s (31m 27s)\n"
          ],
          "name": "stdout"
        },
        {
          "output_type": "stream",
          "text": [
            "100%|██████████| 169/169 [04:19<00:00,  1.54s/it]\n",
            "100%|██████████| 169/169 [01:32<00:00,  1.82it/s]\n",
            "100%|██████████| 43/43 [00:23<00:00,  1.85it/s]\n"
          ],
          "name": "stderr"
        },
        {
          "output_type": "stream",
          "text": [
            "\n",
            "******************************\n",
            "Epoch #16:\n",
            "Validation Loss: 0.4720\n",
            "Validation accuracy: 0.6538\n",
            "Validation k-accuracy: 0.893\n",
            "\n",
            "made early stopping after epoch:  15\n",
            "best validation accuracy was:  0.7189 after epoch number:  5\n"
          ],
          "name": "stdout"
        },
        {
          "output_type": "display_data",
          "data": {
            "image/png": "[encoded data removed]",
            "text/plain": [
              "<Figure size 1440x576 with 1 Axes>"
            ]
          },
          "metadata": {
            "tags": [],
            "needs_background": "light"
          }
        },
        {
          "output_type": "display_data",
          "data": {
            "image/png": "[encoded data removed]",
            "text/plain": [
              "<Figure size 1440x576 with 1 Axes>"
            ]
          },
          "metadata": {
            "tags": [],
            "needs_background": "light"
          }
        }
      ]
    },
    {
      "cell_type": "code",
      "metadata": {
        "colab": {
          "base_uri": "https://localhost:8080/"
        },
        "id": "qmY3niRT_rRC",
        "outputId": "1d9ba876-1fb5-4241-9bcd-f990d9bb9268"
      },
      "source": [
        "\n",
        "\n",
        "\n",
        "\n",
        "print(\"training final net\")\n",
        "\n",
        "\n",
        "args.validation_ratio = 0\n",
        "args.early_stop_n = 1000000\n",
        "args.num_epochs = trained_net.val_best_acc_epoch\n",
        "\n",
        "del trained_net\n",
        "\n",
        "\n",
        "\n",
        "if not tr_bert_classifer:\n",
        "    embedding_dataloaders_without_val = upload_data_to_dataloader(song_token.df_songs, embedding_songs.songs_features, args= args)\n",
        "\n",
        "\n",
        "else:\n",
        "    embedding_dataloaders_without_val = upload_data_to_dataloader(song_token.df_songs, song_token.songs_dict, args=args, tokenized_data= True)\n",
        "\n",
        "\n",
        "if WEIGHT_DECAY > 0:\n",
        "    adam_optimizer = optim.Adam(untrained_net_final.parameters(), lr=LR, weight_decay=WEIGHT_DECAY)\n",
        "else:\n",
        "    adam_optimizer = optim.Adam(untrained_net_final.parameters(), lr=LR)\n",
        "\n",
        "\n",
        "\n",
        "final_net = TrainNet(train_dataloader= embedding_dataloaders_without_val.tr_dataloader, optimizer=adam_optimizer,\n",
        "                                      device=device, net= untrained_net_final,\n",
        "                                      val_dataloader=embedding_dataloaders_without_val.test_dataloader,\n",
        "                                      args= args, tr_bert_classifer = tr_bert_classifer, k=3)\n",
        "\n",
        "\n",
        "\n"
      ],
      "execution_count": null,
      "outputs": [
        {
          "output_type": "stream",
          "text": [
            "training final net\n"
          ],
          "name": "stdout"
        },
        {
          "output_type": "stream",
          "text": [
            "\r  0%|          | 0/212 [00:00<?, ?it/s]"
          ],
          "name": "stderr"
        },
        {
          "output_type": "stream",
          "text": [
            "starting to train classifier net\n",
            "2021-04-13 17:12:19.060117+03:00\n"
          ],
          "name": "stdout"
        },
        {
          "output_type": "stream",
          "text": [
            "100%|██████████| 212/212 [05:24<00:00,  1.53s/it]\n",
            "100%|██████████| 212/212 [01:56<00:00,  1.82it/s]\n",
            "100%|██████████| 53/53 [00:29<00:00,  1.82it/s]\n",
            "  0%|          | 0/212 [00:00<?, ?it/s]"
          ],
          "name": "stderr"
        },
        {
          "output_type": "stream",
          "text": [
            "\n",
            "******************************\n",
            "Epoch #1:\n",
            "Validation Loss: 0.2725\n",
            "Validation accuracy: 0.5697\n",
            "Validation k-accuracy: 0.894\n",
            "\n",
            "\n",
            "******************************\n",
            "Epoch #1:\n",
            "Train Loss: 1.3041\n",
            "Train accuracy: 0.6254\n",
            "Train k-accuracy: 0.948\n",
            "Time elapsed (remaining): 7m 50s (31m 20s)\n"
          ],
          "name": "stdout"
        },
        {
          "output_type": "stream",
          "text": [
            "100%|██████████| 212/212 [05:24<00:00,  1.53s/it]\n",
            "100%|██████████| 212/212 [01:56<00:00,  1.82it/s]\n",
            "100%|██████████| 53/53 [00:29<00:00,  1.82it/s]\n",
            "  0%|          | 0/212 [00:00<?, ?it/s]"
          ],
          "name": "stderr"
        },
        {
          "output_type": "stream",
          "text": [
            "\n",
            "******************************\n",
            "Epoch #2:\n",
            "Validation Loss: 0.2201\n",
            "Validation accuracy: 0.6761\n",
            "Validation k-accuracy: 0.946\n",
            "\n",
            "\n",
            "******************************\n",
            "Epoch #2:\n",
            "Train Loss: 0.7917\n",
            "Train accuracy: 0.8627\n",
            "Train k-accuracy: 0.985\n",
            "Time elapsed (remaining): 15m 40s (23m 31s)\n"
          ],
          "name": "stdout"
        },
        {
          "output_type": "stream",
          "text": [
            "100%|██████████| 212/212 [05:24<00:00,  1.53s/it]\n",
            "100%|██████████| 212/212 [01:56<00:00,  1.82it/s]\n",
            "100%|██████████| 53/53 [00:29<00:00,  1.82it/s]\n",
            "  0%|          | 0/212 [00:00<?, ?it/s]"
          ],
          "name": "stderr"
        },
        {
          "output_type": "stream",
          "text": [
            "\n",
            "******************************\n",
            "Epoch #3:\n",
            "Validation Loss: 0.2757\n",
            "Validation accuracy: 0.6478\n",
            "Validation k-accuracy: 0.908\n",
            "\n",
            "\n",
            "******************************\n",
            "Epoch #3:\n",
            "Train Loss: 0.4554\n",
            "Train accuracy: 0.8527\n",
            "Train k-accuracy: 0.989\n",
            "Time elapsed (remaining): 23m 30s (15m 40s)\n"
          ],
          "name": "stdout"
        },
        {
          "output_type": "stream",
          "text": [
            "100%|██████████| 212/212 [05:24<00:00,  1.53s/it]\n",
            "100%|██████████| 212/212 [01:56<00:00,  1.82it/s]\n",
            "100%|██████████| 53/53 [00:29<00:00,  1.82it/s]\n",
            "  0%|          | 0/212 [00:00<?, ?it/s]"
          ],
          "name": "stderr"
        },
        {
          "output_type": "stream",
          "text": [
            "\n",
            "******************************\n",
            "Epoch #4:\n",
            "Validation Loss: 0.2725\n",
            "Validation accuracy: 0.6430\n",
            "Validation k-accuracy: 0.917\n",
            "\n",
            "\n",
            "******************************\n",
            "Epoch #4:\n",
            "Train Loss: 0.2764\n",
            "Train accuracy: 0.9231\n",
            "Train k-accuracy: 0.997\n",
            "Time elapsed (remaining): 31m 20s (7m 50s)\n"
          ],
          "name": "stdout"
        },
        {
          "output_type": "stream",
          "text": [
            "100%|██████████| 212/212 [05:25<00:00,  1.53s/it]\n",
            "100%|██████████| 212/212 [01:56<00:00,  1.82it/s]\n",
            "100%|██████████| 53/53 [00:29<00:00,  1.82it/s]"
          ],
          "name": "stderr"
        },
        {
          "output_type": "stream",
          "text": [
            "\n",
            "******************************\n",
            "Epoch #5:\n",
            "Validation Loss: 0.2861\n",
            "Validation accuracy: 0.6832\n",
            "Validation k-accuracy: 0.920\n",
            "\n",
            "\n",
            "******************************\n",
            "Epoch #5:\n",
            "Train Loss: 0.1462\n",
            "Train accuracy: 0.9615\n",
            "Train k-accuracy: 0.999\n",
            "Time elapsed (remaining): 39m 11s (0m 0s)\n"
          ],
          "name": "stdout"
        },
        {
          "output_type": "stream",
          "text": [
            "\n"
          ],
          "name": "stderr"
        }
      ]
    }
  ]
}